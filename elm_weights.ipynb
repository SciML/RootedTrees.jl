{
 "cells": [
  {
   "cell_type": "code",
   "execution_count": 43,
   "metadata": {},
   "outputs": [],
   "source": [
    "import Pkg"
   ]
  },
  {
   "cell_type": "code",
   "execution_count": 44,
   "metadata": {},
   "outputs": [
    {
     "name": "stderr",
     "output_type": "stream",
     "text": [
      "\u001b[32m\u001b[1m   Resolving\u001b[22m\u001b[39m package versions...\n"
     ]
    },
    {
     "name": "stderr",
     "output_type": "stream",
     "text": [
      "\u001b[32m\u001b[1m  No Changes\u001b[22m\u001b[39m to `~/RootedTrees.jl/Project.toml`\n",
      "\u001b[32m\u001b[1m  No Changes\u001b[22m\u001b[39m to `~/RootedTrees.jl/Manifest.toml`\n"
     ]
    }
   ],
   "source": [
    "Pkg.add(\"LaTeXStrings\")"
   ]
  },
  {
   "cell_type": "code",
   "execution_count": 45,
   "metadata": {},
   "outputs": [],
   "source": [
    "using RootedTrees\n",
    "using LaTeXStrings\n"
   ]
  },
  {
   "cell_type": "code",
   "execution_count": 117,
   "metadata": {},
   "outputs": [
    {
     "data": {
      "text/plain": [
       "elm_weights (generic function with 1 method)"
      ]
     },
     "metadata": {},
     "output_type": "display_data"
    }
   ],
   "source": [
    "function elm_weights(t::RootedTree)\n",
    "    # Creating enough indices for the elementary weights\n",
    "    a = collect('d':'z') # all letters except of a,b and c\n",
    "    p = order(t)\n",
    "    n = ceil(Int,p/23)\n",
    "    alphabet = String[]\n",
    "    if n == 1\n",
    "        alphabet = [string(letter) for letter in a]\n",
    "    else\n",
    "        for i in 1:n\n",
    "            alphabet = vcat(alphabet,[letter * string(i) for letter in a])\n",
    "        end\n",
    "    end\n",
    "\n",
    "    substrings = String[]\n",
    "    first_index = splice!(alphabet,1)\n",
    "    indices = [first_index]\n",
    "\n",
    "    prev_tree = 0\n",
    "    tree_count = 1\n",
    "    for subtree in SubtreeIterator(t)\n",
    "        if subtree == prev_tree\n",
    "            tree_count += 1\n",
    "            continue\n",
    "        elseif tree_count > 1\n",
    "            if length(prev_tree.level_sequence) == 1\n",
    "                substrings[end] = \"$(substrings[end])^{$tree_count}\"\n",
    "            else\n",
    "                substrings[end] = \"($(substrings[end]))^{$tree_count}\"\n",
    "            end\n",
    "        end\n",
    "        prev_tree = copy(subtree)\n",
    "        tree_count = 1\n",
    "        substring, idx = elm_weights_rec!(subtree,first_index,alphabet)\n",
    "        indices = vcat(indices,idx)\n",
    "        push!(substrings,substring)\n",
    "    end\n",
    "    if tree_count > 1\n",
    "        if length(prev_tree.level_sequence) == 1\n",
    "            substrings[end] = \"$(substrings[end])^{$tree_count}\"\n",
    "        else\n",
    "            substrings[end] = \"($(substrings[end]))^{$tree_count}\"\n",
    "        end\n",
    "    end\n",
    "    pushfirst!(substrings,\"\\\\sum_{$(join(indices,\", \"))}b_{$(first_index)}\")\n",
    "    return latexstring(join(substrings))\n",
    "end"
   ]
  },
  {
   "cell_type": "code",
   "execution_count": 126,
   "metadata": {},
   "outputs": [
    {
     "data": {
      "text/plain": [
       "elm_weights_rec! (generic function with 1 method)"
      ]
     },
     "metadata": {},
     "output_type": "display_data"
    }
   ],
   "source": [
    "function elm_weights_rec!(t::RootedTree,last_index,alphabet)\n",
    "    if length(t.level_sequence) == 1\n",
    "        return \"c_{$(last_index)}\", []\n",
    "    else\n",
    "        substrings = String[]\n",
    "        indices = String[]\n",
    "        if t.level_sequence[1] != 1 # Specialcase: Complete Tree\n",
    "            push!(substrings,\"a_{$(last_index),$(alphabet[1])}\")\n",
    "            index = splice!(alphabet,1)\n",
    "            push!(indices,index)\n",
    "        end\n",
    "        prev_tree = 0\n",
    "        tree_count = 1\n",
    "        for subtree in SubtreeIterator(t)\n",
    "            if subtree == prev_tree\n",
    "                tree_count += 1\n",
    "                continue\n",
    "            elseif tree_count > 1\n",
    "                if length(prev_tree.level_sequence) == 1\n",
    "                    substrings[end] = \"$(substrings[end])^{$tree_count}\"\n",
    "                else\n",
    "                    substrings[end] = \"($(substrings[end]))^{$tree_count}\"\n",
    "                end\n",
    "            end\n",
    "            prev_tree = copy(subtree)\n",
    "            tree_count = 1\n",
    "            substring, idx = elm_weights_rec!(subtree,index,alphabet)\n",
    "            indices = vcat(indices,idx)\n",
    "            push!(substrings,substring)\n",
    "        end\n",
    "        if tree_count > 1\n",
    "            if length(prev_tree.level_sequence) == 1\n",
    "                substrings[end] = \"$(substrings[end])^{$tree_count}\"\n",
    "            else\n",
    "                substrings[end] = \"($(substrings[end]))^{$tree_count}\"\n",
    "            end\n",
    "        end\n",
    "        return join(substrings), indices\n",
    "    end\n",
    "end"
   ]
  },
  {
   "cell_type": "code",
   "execution_count": 127,
   "metadata": {},
   "outputs": [
    {
     "data": {
      "text/plain": [
       "RootedTree{Int64}: [1]"
      ]
     },
     "metadata": {},
     "output_type": "display_data"
    },
    {
     "data": {
      "text/latex": [
       "$\\sum_{d}b_{d}$"
      ],
      "text/plain": [
       "L\"$\\sum_{d}b_{d}$\""
      ]
     },
     "metadata": {},
     "output_type": "display_data"
    },
    {
     "data": {
      "text/plain": [
       "RootedTree{Int64}: [1, 2]"
      ]
     },
     "metadata": {},
     "output_type": "display_data"
    },
    {
     "data": {
      "text/latex": [
       "$\\sum_{d}b_{d}c_{d}$"
      ],
      "text/plain": [
       "L\"$\\sum_{d}b_{d}c_{d}$\""
      ]
     },
     "metadata": {},
     "output_type": "display_data"
    },
    {
     "data": {
      "text/plain": [
       "RootedTree{Int64}: [1, 2, 3]"
      ]
     },
     "metadata": {},
     "output_type": "display_data"
    },
    {
     "data": {
      "text/latex": [
       "$\\sum_{d, e}b_{d}a_{d,e}c_{e}$"
      ],
      "text/plain": [
       "L\"$\\sum_{d, e}b_{d}a_{d,e}c_{e}$\""
      ]
     },
     "metadata": {},
     "output_type": "display_data"
    },
    {
     "data": {
      "text/plain": [
       "RootedTree{Int64}: [1, 2, 2]"
      ]
     },
     "metadata": {},
     "output_type": "display_data"
    },
    {
     "data": {
      "text/latex": [
       "$\\sum_{d}b_{d}c_{d}^{2}$"
      ],
      "text/plain": [
       "L\"$\\sum_{d}b_{d}c_{d}^{2}$\""
      ]
     },
     "metadata": {},
     "output_type": "display_data"
    },
    {
     "data": {
      "text/plain": [
       "RootedTree{Int64}: [1, 2, 3, 4]"
      ]
     },
     "metadata": {},
     "output_type": "display_data"
    },
    {
     "data": {
      "text/latex": [
       "$\\sum_{d, e, f}b_{d}a_{d,e}a_{e,f}c_{f}$"
      ],
      "text/plain": [
       "L\"$\\sum_{d, e, f}b_{d}a_{d,e}a_{e,f}c_{f}$\""
      ]
     },
     "metadata": {},
     "output_type": "display_data"
    },
    {
     "data": {
      "text/plain": [
       "RootedTree{Int64}: [1, 2, 3, 3]"
      ]
     },
     "metadata": {},
     "output_type": "display_data"
    },
    {
     "data": {
      "text/latex": [
       "$\\sum_{d, e}b_{d}a_{d,e}c_{e}^{2}$"
      ],
      "text/plain": [
       "L\"$\\sum_{d, e}b_{d}a_{d,e}c_{e}^{2}$\""
      ]
     },
     "metadata": {},
     "output_type": "display_data"
    },
    {
     "data": {
      "text/plain": [
       "RootedTree{Int64}: [1, 2, 3, 2]"
      ]
     },
     "metadata": {},
     "output_type": "display_data"
    },
    {
     "data": {
      "text/latex": [
       "$\\sum_{d, e}b_{d}a_{d,e}c_{e}c_{d}$"
      ],
      "text/plain": [
       "L\"$\\sum_{d, e}b_{d}a_{d,e}c_{e}c_{d}$\""
      ]
     },
     "metadata": {},
     "output_type": "display_data"
    },
    {
     "data": {
      "text/plain": [
       "RootedTree{Int64}: [1, 2, 2, 2]"
      ]
     },
     "metadata": {},
     "output_type": "display_data"
    },
    {
     "data": {
      "text/latex": [
       "$\\sum_{d}b_{d}c_{d}^{3}$"
      ],
      "text/plain": [
       "L\"$\\sum_{d}b_{d}c_{d}^{3}$\""
      ]
     },
     "metadata": {},
     "output_type": "display_data"
    },
    {
     "data": {
      "text/plain": [
       "RootedTree{Int64}: [1, 2, 3, 4, 5]"
      ]
     },
     "metadata": {},
     "output_type": "display_data"
    },
    {
     "data": {
      "text/latex": [
       "$\\sum_{d, e, f, g}b_{d}a_{d,e}a_{e,f}a_{f,g}c_{g}$"
      ],
      "text/plain": [
       "L\"$\\sum_{d, e, f, g}b_{d}a_{d,e}a_{e,f}a_{f,g}c_{g}$\""
      ]
     },
     "metadata": {},
     "output_type": "display_data"
    },
    {
     "data": {
      "text/plain": [
       "RootedTree{Int64}: [1, 2, 3, 4, 4]"
      ]
     },
     "metadata": {},
     "output_type": "display_data"
    },
    {
     "data": {
      "text/latex": [
       "$\\sum_{d, e, f}b_{d}a_{d,e}a_{e,f}c_{f}^{2}$"
      ],
      "text/plain": [
       "L\"$\\sum_{d, e, f}b_{d}a_{d,e}a_{e,f}c_{f}^{2}$\""
      ]
     },
     "metadata": {},
     "output_type": "display_data"
    },
    {
     "data": {
      "text/plain": [
       "RootedTree{Int64}: [1, 2, 3, 4, 3]"
      ]
     },
     "metadata": {},
     "output_type": "display_data"
    },
    {
     "data": {
      "text/latex": [
       "$\\sum_{d, e, f}b_{d}a_{d,e}a_{e,f}c_{f}c_{e}$"
      ],
      "text/plain": [
       "L\"$\\sum_{d, e, f}b_{d}a_{d,e}a_{e,f}c_{f}c_{e}$\""
      ]
     },
     "metadata": {},
     "output_type": "display_data"
    },
    {
     "data": {
      "text/plain": [
       "RootedTree{Int64}: [1, 2, 3, 4, 2]"
      ]
     },
     "metadata": {},
     "output_type": "display_data"
    },
    {
     "data": {
      "text/latex": [
       "$\\sum_{d, e, f}b_{d}a_{d,e}a_{e,f}c_{f}c_{d}$"
      ],
      "text/plain": [
       "L\"$\\sum_{d, e, f}b_{d}a_{d,e}a_{e,f}c_{f}c_{d}$\""
      ]
     },
     "metadata": {},
     "output_type": "display_data"
    },
    {
     "data": {
      "text/plain": [
       "RootedTree{Int64}: [1, 2, 3, 3, 3]"
      ]
     },
     "metadata": {},
     "output_type": "display_data"
    },
    {
     "data": {
      "text/latex": [
       "$\\sum_{d, e}b_{d}a_{d,e}c_{e}^{3}$"
      ],
      "text/plain": [
       "L\"$\\sum_{d, e}b_{d}a_{d,e}c_{e}^{3}$\""
      ]
     },
     "metadata": {},
     "output_type": "display_data"
    },
    {
     "data": {
      "text/plain": [
       "RootedTree{Int64}: [1, 2, 3, 3, 2]"
      ]
     },
     "metadata": {},
     "output_type": "display_data"
    },
    {
     "data": {
      "text/latex": [
       "$\\sum_{d, e}b_{d}a_{d,e}c_{e}^{2}c_{d}$"
      ],
      "text/plain": [
       "L\"$\\sum_{d, e}b_{d}a_{d,e}c_{e}^{2}c_{d}$\""
      ]
     },
     "metadata": {},
     "output_type": "display_data"
    },
    {
     "data": {
      "text/plain": [
       "RootedTree{Int64}: [1, 2, 3, 2, 3]"
      ]
     },
     "metadata": {},
     "output_type": "display_data"
    },
    {
     "data": {
      "text/latex": [
       "$\\sum_{d, e}b_{d}(a_{d,e}c_{e})^{2}$"
      ],
      "text/plain": [
       "L\"$\\sum_{d, e}b_{d}(a_{d,e}c_{e})^{2}$\""
      ]
     },
     "metadata": {},
     "output_type": "display_data"
    },
    {
     "data": {
      "text/plain": [
       "RootedTree{Int64}: [1, 2, 3, 2, 2]"
      ]
     },
     "metadata": {},
     "output_type": "display_data"
    },
    {
     "data": {
      "text/latex": [
       "$\\sum_{d, e}b_{d}a_{d,e}c_{e}c_{d}^{2}$"
      ],
      "text/plain": [
       "L\"$\\sum_{d, e}b_{d}a_{d,e}c_{e}c_{d}^{2}$\""
      ]
     },
     "metadata": {},
     "output_type": "display_data"
    },
    {
     "data": {
      "text/plain": [
       "RootedTree{Int64}: [1, 2, 2, 2, 2]"
      ]
     },
     "metadata": {},
     "output_type": "display_data"
    },
    {
     "data": {
      "text/latex": [
       "$\\sum_{d}b_{d}c_{d}^{4}$"
      ],
      "text/plain": [
       "L\"$\\sum_{d}b_{d}c_{d}^{4}$\""
      ]
     },
     "metadata": {},
     "output_type": "display_data"
    },
    {
     "name": "stdout",
     "output_type": "stream",
     "text": [
      "here\n",
      "here\n",
      "here\n",
      "here\n",
      "here\n",
      "here\n",
      "here\n",
      "here\n"
     ]
    }
   ],
   "source": [
    "for i in 1:5\n",
    "    for t in RootedTreeIterator(i)\n",
    "        display(t)\n",
    "        display(elm_weights(t))\n",
    "    end\n",
    "end"
   ]
  },
  {
   "cell_type": "code",
   "execution_count": null,
   "metadata": {},
   "outputs": [],
   "source": []
  }
 ],
 "metadata": {
  "kernelspec": {
   "display_name": "Julia 1.10.0",
   "language": "julia",
   "name": "julia-1.10"
  },
  "language_info": {
   "file_extension": ".jl",
   "mimetype": "application/julia",
   "name": "julia",
   "version": "1.10.0"
  }
 },
 "nbformat": 4,
 "nbformat_minor": 2
}
